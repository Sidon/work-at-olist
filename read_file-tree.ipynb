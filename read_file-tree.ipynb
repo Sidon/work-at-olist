{
 "cells": [
  {
   "cell_type": "code",
   "execution_count": 42,
   "metadata": {
    "collapsed": true
   },
   "outputs": [],
   "source": [
    "# from treelib import Node, Tree\n",
    "from collections import OrderedDict\n",
    "filename = 'categories.csv'"
   ]
  },
  {
   "cell_type": "code",
   "execution_count": 43,
   "metadata": {
    "collapsed": true
   },
   "outputs": [],
   "source": [
    "f = open(filename, mode='r')\n",
    "lines = f.readlines()\n",
    "del lines[0]\n",
    "lines = [line.rstrip().split(' / ') for line in lines if line != '\\n']\n",
    "\n",
    "for line in lines:\n",
    "    if len(line) < 2:\n",
    "        branche = line[0]\n",
    "        data_lines[branche] = []\n",
    "    data_lines[branche].append(line) "
   ]
  },
  {
   "cell_type": "code",
   "execution_count": 44,
   "metadata": {
    "collapsed": false
   },
   "outputs": [
    {
     "data": {
      "text/plain": [
       "[(0, 'Books', None),\n",
       " (1, 'National Literature', 0),\n",
       " (2, 'Science Fiction', 1),\n",
       " (3, 'Fiction Fantastic', 1),\n",
       " (4, 'Foreign Literature', 0),\n",
       " (5, 'Computers', 0),\n",
       " (6, 'Applications', 5),\n",
       " (7, 'Database', 5),\n",
       " (8, 'Programming', 5),\n",
       " (9, 'Games', None),\n",
       " (10, 'XBOX 360', 9),\n",
       " (11, 'Console', 10),\n",
       " (12, 'Games', 10),\n",
       " (13, 'Descent', 12),\n",
       " (14, 'Accessories', 10),\n",
       " (15, 'XBOX One', 9),\n",
       " (16, 'Console', 15),\n",
       " (17, 'Games', 15),\n",
       " (18, 'Quake', 17),\n",
       " (19, 'Accessories', 15),\n",
       " (20, 'Playstation 4', 9),\n",
       " (21, 'Computers', None),\n",
       " (22, 'Notebooks', 21),\n",
       " (23, 'Tablets', 21),\n",
       " (24, 'Desktop', 21)]"
      ]
     },
     "execution_count": 44,
     "metadata": {},
     "output_type": "execute_result"
    }
   ],
   "source": [
    "def get_tree(_lines):\n",
    "    codes, tree = [], []\n",
    "    for row_idx, row_value in enumerate(_lines):\n",
    "        last_name = row_value[-1]\n",
    "        if len(codes) < len(row_value):\n",
    "            codes.append(row_idx)\n",
    "        else:\n",
    "            codes[len(row_value)-1] = row_idx\n",
    "        tree.append((codes[len(row_value)-1], last_name, codes[len(row_value)-2] if len(row_value)-2 >= 0 else None))    \n",
    "    return tree\n",
    "   \n",
    "get_tree(lines)"
   ]
  },
  {
   "cell_type": "code",
   "execution_count": 45,
   "metadata": {
    "collapsed": true
   },
   "outputs": [],
   "source": [
    "def get_branches(_lines, _line):\n",
    "    len_line = len(_line)\n",
    "    children = []\n",
    "    \n",
    "    # Deve ser o ultimo elemento da linha\n",
    "    branche = _line[-1]\n",
    "    branche_index = len(_line)-1 \n",
    "    \n",
    "    # O indice da linha _line na lista de linhas\n",
    "    index = _lines.index(_line)+1\n",
    "    \n",
    "    # Percorre todas as listas (linhas)\n",
    "    for i in range(index, len(_lines)):\n",
    "        current_line = _lines[i]\n",
    "        if len(current_line)>branche_index:\n",
    "            current_branche=current_line[branche_index]\n",
    "        else:\n",
    "            current_branche=current_line[-1]\n",
    "     \n",
    "        if branche!=current_branche: \n",
    "            break\n",
    "        else: \n",
    "            # last element in current line \n",
    "            child = current_line[branche_index+1]\n",
    "            if child not in children:\n",
    "                children.append(child)\n",
    "            \n",
    "    return branche, children"
   ]
  },
  {
   "cell_type": "code",
   "execution_count": 46,
   "metadata": {
    "collapsed": false
   },
   "outputs": [
    {
     "data": {
      "text/plain": [
       "[{'Books': ['National Literature', 'Foreign Literature', 'Computers']},\n",
       " {'National Literature': ['Science Fiction', 'Fiction Fantastic']},\n",
       " {'Science Fiction': []},\n",
       " {'Fiction Fantastic': []},\n",
       " {'Foreign Literature': []},\n",
       " {'Computers': ['Applications', 'Database', 'Programming']},\n",
       " {'Applications': []},\n",
       " {'Database': []},\n",
       " {'Programming': []},\n",
       " {'Games': ['XBOX 360', 'XBOX One', 'Playstation 4']},\n",
       " {'XBOX 360': ['Console', 'Games', 'Accessories']},\n",
       " {'Console': []},\n",
       " {'Games': ['Descent']},\n",
       " {'Descent': []},\n",
       " {'Accessories': []},\n",
       " {'XBOX One': ['Console', 'Games', 'Accessories']},\n",
       " {'Console': []},\n",
       " {'Games': ['Quake']},\n",
       " {'Quake': []},\n",
       " {'Accessories': []},\n",
       " {'Playstation 4': []},\n",
       " {'Computers': ['Notebooks', 'Tablets', 'Desktop']},\n",
       " {'Notebooks': []},\n",
       " {'Tablets': []},\n",
       " {'Desktop': []}]"
      ]
     },
     "execution_count": 46,
     "metadata": {},
     "output_type": "execute_result"
    }
   ],
   "source": [
    "dt = OrderedDict()\n",
    "lst = []\n",
    "\n",
    "for line in lines:\n",
    "    branche = get_branches(lines, line)\n",
    "    lst.append({branche[0]: branche[1]})\n",
    "                \n",
    "lst                "
   ]
  },
  {
   "cell_type": "code",
   "execution_count": null,
   "metadata": {
    "collapsed": true
   },
   "outputs": [],
   "source": []
  }
 ],
 "metadata": {
  "kernelspec": {
   "display_name": "Python 3",
   "language": "python",
   "name": "python3"
  },
  "language_info": {
   "codemirror_mode": {
    "name": "ipython",
    "version": 3
   },
   "file_extension": ".py",
   "mimetype": "text/x-python",
   "name": "python",
   "nbconvert_exporter": "python",
   "pygments_lexer": "ipython3",
   "version": "3.6.0"
  }
 },
 "nbformat": 4,
 "nbformat_minor": 2
}
